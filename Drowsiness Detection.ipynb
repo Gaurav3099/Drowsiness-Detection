{
 "cells": [
  {
   "cell_type": "markdown",
   "metadata": {},
   "source": [
    "<h1> DROWSINESS DETECTION </h1>"
   ]
  },
  {
   "cell_type": "code",
   "execution_count": 2,
   "metadata": {},
   "outputs": [
    {
     "name": "stderr",
     "output_type": "stream",
     "text": [
      "Using TensorFlow backend.\n"
     ]
    }
   ],
   "source": [
    "import os\n",
    "from keras.preprocessing import image\n",
    "import matplotlib.pyplot as plt \n",
    "import numpy as np\n",
    "from keras.utils.np_utils import to_categorical\n",
    "import random,shutil\n",
    "from keras.models import Sequential\n",
    "from keras.layers import Dropout,Conv2D,Flatten,Dense, MaxPooling2D, BatchNormalization\n",
    "from keras.preprocessing.image import ImageDataGenerator\n",
    "import matplotlib.pyplot as plt"
   ]
  },
  {
   "cell_type": "code",
   "execution_count": 3,
   "metadata": {},
   "outputs": [],
   "source": [
    "train_datagen = ImageDataGenerator(rescale = 1./255,\n",
    "                                  shear_range = 0.2,\n",
    "                                  zoom_range=0.2,\n",
    "                                  horizontal_flip=True)"
   ]
  },
  {
   "cell_type": "code",
   "execution_count": 4,
   "metadata": {},
   "outputs": [],
   "source": [
    "test_datagen = ImageDataGenerator(rescale = 1./255)"
   ]
  },
  {
   "cell_type": "markdown",
   "metadata": {},
   "source": [
    "<h2>Loading Data Set</h2>"
   ]
  },
  {
   "cell_type": "code",
   "execution_count": 5,
   "metadata": {},
   "outputs": [
    {
     "name": "stdout",
     "output_type": "stream",
     "text": [
      "Found 2467 images belonging to 4 classes.\n"
     ]
    }
   ],
   "source": [
    "training_set=train_datagen.flow_from_directory('yawn_eye/dataset_new/train',\n",
    "                                              target_size=(24,24),\n",
    "                                              batch_size=32,\n",
    "                                              class_mode='binary')"
   ]
  },
  {
   "cell_type": "code",
   "execution_count": 6,
   "metadata": {},
   "outputs": [
    {
     "name": "stdout",
     "output_type": "stream",
     "text": [
      "Found 433 images belonging to 4 classes.\n"
     ]
    }
   ],
   "source": [
    "test_set = test_datagen.flow_from_directory('yawn_eye/dataset_new/test',\n",
    "                                           target_size=(24,24),\n",
    "                                           batch_size=32,\n",
    "                                           class_mode='binary')"
   ]
  },
  {
   "cell_type": "markdown",
   "metadata": {},
   "source": [
    "<h2>Building Model using CNN</h2>"
   ]
  },
  {
   "cell_type": "code",
   "execution_count": 7,
   "metadata": {},
   "outputs": [],
   "source": [
    "cnn = Sequential()"
   ]
  },
  {
   "cell_type": "code",
   "execution_count": 8,
   "metadata": {},
   "outputs": [],
   "source": [
    "cnn.add(Conv2D(filters=32, kernel_size=(3,3),padding=\"same\",activation=\"relu\", input_shape=[24,24,3]))"
   ]
  },
  {
   "cell_type": "code",
   "execution_count": 9,
   "metadata": {},
   "outputs": [],
   "source": [
    "cnn.add(MaxPooling2D(pool_size=1,strides=2,padding=\"valid\"))"
   ]
  },
  {
   "cell_type": "code",
   "execution_count": 10,
   "metadata": {},
   "outputs": [],
   "source": [
    "#cnn.add(Dropout(0.2))"
   ]
  },
  {
   "cell_type": "code",
   "execution_count": 11,
   "metadata": {},
   "outputs": [],
   "source": [
    "cnn.add(Conv2D(filters=32, kernel_size=(3,3),padding=\"same\",activation=\"relu\"))\n",
    "cnn.add(MaxPooling2D(pool_size=1,strides=2,padding=\"valid\"))"
   ]
  },
  {
   "cell_type": "code",
   "execution_count": 12,
   "metadata": {},
   "outputs": [],
   "source": [
    "#cnn.add(Dropout(0.2))"
   ]
  },
  {
   "cell_type": "code",
   "execution_count": 13,
   "metadata": {},
   "outputs": [],
   "source": [
    "cnn.add(Flatten())"
   ]
  },
  {
   "cell_type": "code",
   "execution_count": 14,
   "metadata": {},
   "outputs": [],
   "source": [
    "cnn.add(Dense(units=128, activation='relu'))"
   ]
  },
  {
   "cell_type": "code",
   "execution_count": 15,
   "metadata": {},
   "outputs": [],
   "source": [
    "#cnn.add(Dropout(0.2))"
   ]
  },
  {
   "cell_type": "code",
   "execution_count": 16,
   "metadata": {},
   "outputs": [],
   "source": [
    "cnn.add(Dense(units=4, activation='softmax'))"
   ]
  },
  {
   "cell_type": "code",
   "execution_count": 17,
   "metadata": {},
   "outputs": [],
   "source": [
    "cnn.compile(optimizer='adam', loss='sparse_categorical_crossentropy',metrics=['accuracy'])"
   ]
  },
  {
   "cell_type": "code",
   "execution_count": 18,
   "metadata": {},
   "outputs": [
    {
     "name": "stdout",
     "output_type": "stream",
     "text": [
      "Epoch 1/15\n",
      "78/78 [==============================] - 213s 3s/step - loss: 0.7856 - accuracy: 0.6526 - val_loss: 0.5502 - val_accuracy: 0.6790\n",
      "Epoch 2/15\n",
      "78/78 [==============================] - 11s 145ms/step - loss: 0.4896 - accuracy: 0.7726 - val_loss: 0.4283 - val_accuracy: 0.7621\n",
      "Epoch 3/15\n",
      "78/78 [==============================] - 13s 161ms/step - loss: 0.4221 - accuracy: 0.7925 - val_loss: 0.3090 - val_accuracy: 0.7968\n",
      "Epoch 4/15\n",
      "78/78 [==============================] - 12s 155ms/step - loss: 0.3917 - accuracy: 0.8058 - val_loss: 0.3212 - val_accuracy: 0.8083\n",
      "Epoch 5/15\n",
      "78/78 [==============================] - 13s 161ms/step - loss: 0.3615 - accuracy: 0.8164 - val_loss: 0.2508 - val_accuracy: 0.8291\n",
      "Epoch 6/15\n",
      "78/78 [==============================] - 12s 159ms/step - loss: 0.3440 - accuracy: 0.8253 - val_loss: 0.2727 - val_accuracy: 0.8245\n",
      "Epoch 7/15\n",
      "78/78 [==============================] - 12s 154ms/step - loss: 0.3363 - accuracy: 0.8249 - val_loss: 0.2686 - val_accuracy: 0.7945\n",
      "Epoch 8/15\n",
      "78/78 [==============================] - 12s 154ms/step - loss: 0.3354 - accuracy: 0.8289 - val_loss: 0.4135 - val_accuracy: 0.8037\n",
      "Epoch 9/15\n",
      "78/78 [==============================] - 12s 159ms/step - loss: 0.3029 - accuracy: 0.8484 - val_loss: 0.4817 - val_accuracy: 0.8060\n",
      "Epoch 10/15\n",
      "78/78 [==============================] - 12s 158ms/step - loss: 0.3177 - accuracy: 0.8375 - val_loss: 0.3691 - val_accuracy: 0.8268\n",
      "Epoch 11/15\n",
      "78/78 [==============================] - 13s 173ms/step - loss: 0.2982 - accuracy: 0.8512 - val_loss: 0.2532 - val_accuracy: 0.8337\n",
      "Epoch 12/15\n",
      "78/78 [==============================] - 13s 162ms/step - loss: 0.3029 - accuracy: 0.8431 - val_loss: 0.7035 - val_accuracy: 0.8199\n",
      "Epoch 13/15\n",
      "78/78 [==============================] - 11s 141ms/step - loss: 0.3071 - accuracy: 0.8375 - val_loss: 0.4097 - val_accuracy: 0.8268\n",
      "Epoch 14/15\n",
      "78/78 [==============================] - 11s 143ms/step - loss: 0.2829 - accuracy: 0.8662 - val_loss: 0.3946 - val_accuracy: 0.8476\n",
      "Epoch 15/15\n",
      "78/78 [==============================] - 11s 142ms/step - loss: 0.2621 - accuracy: 0.8650 - val_loss: 0.2617 - val_accuracy: 0.8152\n"
     ]
    },
    {
     "data": {
      "text/plain": [
       "<keras.callbacks.callbacks.History at 0x14bb5528188>"
      ]
     },
     "execution_count": 18,
     "metadata": {},
     "output_type": "execute_result"
    }
   ],
   "source": [
    "cnn.fit_generator(training_set,\n",
    "                 steps_per_epoch = 78,\n",
    "                 epochs=15,\n",
    "                 validation_data=test_set,\n",
    "                 validation_steps=14)"
   ]
  },
  {
   "cell_type": "code",
   "execution_count": 19,
   "metadata": {},
   "outputs": [],
   "source": [
    "#Saving the model\n",
    "cnn.save('CNN_DD.h5', overwrite=True)"
   ]
  },
  {
   "cell_type": "code",
   "execution_count": 20,
   "metadata": {},
   "outputs": [
    {
     "data": {
      "text/plain": [
       "{'Closed': 0, 'Open': 1, 'no_yawn': 2, 'yawn': 3}"
      ]
     },
     "execution_count": 20,
     "metadata": {},
     "output_type": "execute_result"
    }
   ],
   "source": [
    "training_set.class_indices"
   ]
  },
  {
   "cell_type": "markdown",
   "metadata": {},
   "source": [
    "<h2>Testing the model by uploading an image</h2>"
   ]
  },
  {
   "cell_type": "code",
   "execution_count": 22,
   "metadata": {},
   "outputs": [
    {
     "name": "stdout",
     "output_type": "stream",
     "text": [
      "[[0. 0. 0. 1.]]\n"
     ]
    },
    {
     "data": {
      "text/plain": [
       "'yawn'"
      ]
     },
     "execution_count": 22,
     "metadata": {},
     "output_type": "execute_result"
    },
    {
     "data": {
      "image/png": "[encoded data removed]",
      "text/plain": [
       "<Figure size 432x288 with 1 Axes>"
      ]
     },
     "metadata": {
      "needs_background": "light"
     },
     "output_type": "display_data"
    }
   ],
   "source": [
    "test_image = image.load_img('yawn_eye/dataset_new/test/yawn/286.jpg', target_size = (24,24))\n",
    "plt.imshow(test_image)\n",
    "test_image = image.img_to_array(test_image)\n",
    "test_image = np.expand_dims(test_image, axis = 0)\n",
    "result = cnn.predict(test_image)\n",
    "print(result)\n",
    "training_set.class_indices\n",
    "if result[0][0] == 1:\n",
    "    prediction = 'Closed'\n",
    "elif result[0][1] == 1:\n",
    "    prediction = 'Open'\n",
    "elif result[0][2] == 1:\n",
    "    prediction = 'no yawn'\n",
    "else:\n",
    "    prediction = 'yawn'\n",
    "prediction"
   ]
  },
  {
   "cell_type": "code",
   "execution_count": null,
   "metadata": {},
   "outputs": [],
   "source": []
  }
 ],
 "metadata": {
  "kernelspec": {
   "display_name": "Python [conda env:py3-TF2.0]",
   "language": "python",
   "name": "conda-env-py3-TF2.0-py"
  },
  "language_info": {
   "codemirror_mode": {
    "name": "ipython",
    "version": 3
   },
   "file_extension": ".py",
   "mimetype": "text/x-python",
   "name": "python",
   "nbconvert_exporter": "python",
   "pygments_lexer": "ipython3",
   "version": "3.7.7"
  }
 },
 "nbformat": 4,
 "nbformat_minor": 4
}
